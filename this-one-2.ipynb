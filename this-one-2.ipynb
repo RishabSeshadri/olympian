{
 "cells": [
  {
   "cell_type": "code",
   "execution_count": 1,
   "id": "c68e1149",
   "metadata": {
    "_cell_guid": "b1076dfc-b9ad-4769-8c92-a6c4dae69d19",
    "_uuid": "8f2839f25d086af736a60e9eeb907d3b93b6e0e5",
    "execution": {
     "iopub.execute_input": "2024-07-12T13:51:37.234315Z",
     "iopub.status.busy": "2024-07-12T13:51:37.233880Z",
     "iopub.status.idle": "2024-07-12T13:51:38.386913Z",
     "shell.execute_reply": "2024-07-12T13:51:38.385554Z"
    },
    "papermill": {
     "duration": 1.161868,
     "end_time": "2024-07-12T13:51:38.389738",
     "exception": false,
     "start_time": "2024-07-12T13:51:37.227870",
     "status": "completed"
    },
    "tags": []
   },
   "outputs": [
    {
     "name": "stdout",
     "output_type": "stream",
     "text": [
      "/kaggle/input/120-years-of-olympic-history-athletes-and-results/noc_regions.csv\n",
      "/kaggle/input/120-years-of-olympic-history-athletes-and-results/athlete_events.csv\n"
     ]
    }
   ],
   "source": [
    "# This Python 3 environment comes with many helpful analytics libraries installed\n",
    "# It is defined by the kaggle/python Docker image: https://github.com/kaggle/docker-python\n",
    "# For example, here's several helpful packages to load\n",
    "\n",
    "import numpy as np # linear algebra\n",
    "import pandas as pd # data processing, CSV file I/O (e.g. pd.read_csv)\n",
    "\n",
    "# Input data files are available in the read-only \"../input/\" directory\n",
    "# For example, running this (by clicking run or pressing Shift+Enter) will list all files under the input directory\n",
    "\n",
    "import os\n",
    "for dirname, _, filenames in os.walk('/kaggle/input'):\n",
    "    for filename in filenames:\n",
    "        print(os.path.join(dirname, filename))\n",
    "\n",
    "# You can write up to 20GB to the current directory (/kaggle/working/) that gets preserved as output when you create a version using \"Save & Run All\" \n",
    "# You can also write temporary files to /kaggle/temp/, but they won't be saved outside of the current session"
   ]
  },
  {
   "cell_type": "code",
   "execution_count": 2,
   "id": "fd121fdc",
   "metadata": {
    "execution": {
     "iopub.execute_input": "2024-07-12T13:51:38.400041Z",
     "iopub.status.busy": "2024-07-12T13:51:38.399516Z",
     "iopub.status.idle": "2024-07-12T13:51:42.836715Z",
     "shell.execute_reply": "2024-07-12T13:51:42.835435Z"
    },
    "papermill": {
     "duration": 4.446163,
     "end_time": "2024-07-12T13:51:42.840304",
     "exception": false,
     "start_time": "2024-07-12T13:51:38.394141",
     "status": "completed"
    },
    "tags": []
   },
   "outputs": [],
   "source": [
    "#Imports for data processing and modeling \n",
    "import sklearn as sk\n",
    "from sklearn.ensemble import RandomForestRegressor\n",
    "from sklearn.preprocessing import LabelEncoder\n",
    "from sklearn.model_selection import train_test_split \n",
    "\n",
    "#read in the historical csv file as a dataframe, do some preprocessing to keep only important columns\n",
    "df = pd.read_csv(\"/kaggle/input/120-years-of-olympic-history-athletes-and-results/athlete_events.csv\")\n",
    "df = df.sort_values(\"Sport\")\n",
    "df = df.drop([\"ID\", \"Name\", \"Sex\",\"Age\", \"Height\", \"Weight\", \"Team\", \"Games\", \"Season\", \"City\", \"Event\"], axis=1)\n",
    "df.loc[df[\"Medal\"] == \"Bronze\",\"Medal\"] = 1\n",
    "df.loc[df[\"Medal\"] == \"Gold\",\"Medal\"] = 3\n",
    "df.loc[df[\"Medal\"] == \"Silver\",\"Medal\"] = 2\n",
    "df = df[df[\"Year\"] >= 1976]\n",
    "df = df.groupby([\"Year\",\"Sport\",\"NOC\"], as_index=False)[\"Medal\"].sum()\n",
    "merge = df.copy()"
   ]
  },
  {
   "cell_type": "code",
   "execution_count": 3,
   "id": "d21dec6d",
   "metadata": {
    "execution": {
     "iopub.execute_input": "2024-07-12T13:51:42.853774Z",
     "iopub.status.busy": "2024-07-12T13:51:42.853304Z",
     "iopub.status.idle": "2024-07-12T13:51:42.872370Z",
     "shell.execute_reply": "2024-07-12T13:51:42.871231Z"
    },
    "papermill": {
     "duration": 0.02857,
     "end_time": "2024-07-12T13:51:42.875003",
     "exception": false,
     "start_time": "2024-07-12T13:51:42.846433",
     "status": "completed"
    },
    "tags": []
   },
   "outputs": [],
   "source": [
    "#label encoding categorical variables to form features\n",
    "label_encoder = LabelEncoder()\n",
    "df['NOC']= label_encoder.fit_transform(df['NOC']) \n",
    "df['Sport']= label_encoder.fit_transform(df['Sport']) "
   ]
  },
  {
   "cell_type": "code",
   "execution_count": 4,
   "id": "28385797",
   "metadata": {
    "execution": {
     "iopub.execute_input": "2024-07-12T13:51:42.885209Z",
     "iopub.status.busy": "2024-07-12T13:51:42.884762Z",
     "iopub.status.idle": "2024-07-12T13:51:42.911674Z",
     "shell.execute_reply": "2024-07-12T13:51:42.910319Z"
    },
    "papermill": {
     "duration": 0.036489,
     "end_time": "2024-07-12T13:51:42.915606",
     "exception": false,
     "start_time": "2024-07-12T13:51:42.879117",
     "status": "completed"
    },
    "tags": []
   },
   "outputs": [],
   "source": [
    "#formatting the map for mapping country name to symbol for web app \n",
    "the_map = pd.read_csv(\"/kaggle/input/120-years-of-olympic-history-athletes-and-results/noc_regions.csv\")\n",
    "the_map= the_map.drop([\"notes\"], axis=1)\n",
    "the_map[\"noc\"] = the_map[\"NOC\"]\n",
    "the_map[\"country_name\"] = the_map[\"region\"]\n",
    "the_map= the_map.drop([\"region\",\"NOC\" ], axis=1)\n",
    "file_path = '/kaggle/working/input/output.csv'\n",
    "the_map.to_csv('country_mapper.csv',index=False)"
   ]
  },
  {
   "cell_type": "code",
   "execution_count": 5,
   "id": "9eb4e946",
   "metadata": {
    "execution": {
     "iopub.execute_input": "2024-07-12T13:51:42.929808Z",
     "iopub.status.busy": "2024-07-12T13:51:42.929051Z",
     "iopub.status.idle": "2024-07-12T13:51:42.946827Z",
     "shell.execute_reply": "2024-07-12T13:51:42.945529Z"
    },
    "papermill": {
     "duration": 0.030761,
     "end_time": "2024-07-12T13:51:42.950702",
     "exception": false,
     "start_time": "2024-07-12T13:51:42.919941",
     "status": "completed"
    },
    "tags": []
   },
   "outputs": [],
   "source": [
    "#processing and formatting the prediction set\n",
    "the_2024_results = merge[merge[\"Year\"] == 2016]\n",
    "the_2024_results.loc[:, 'Year'] = 2024\n",
    "the_2024_results = the_2024_results.drop([\"Medal\"], axis=1)\n",
    "copy = the_2024_results.copy()\n",
    "label_encoder = LabelEncoder()\n",
    "the_2024_results['NOC']= label_encoder.fit_transform(the_2024_results['NOC']) \n",
    "the_2024_results['Sport']= label_encoder.fit_transform(the_2024_results['Sport'])\n"
   ]
  },
  {
   "cell_type": "code",
   "execution_count": 6,
   "id": "ac76456e",
   "metadata": {
    "execution": {
     "iopub.execute_input": "2024-07-12T13:51:42.963057Z",
     "iopub.status.busy": "2024-07-12T13:51:42.961757Z",
     "iopub.status.idle": "2024-07-12T13:51:45.065886Z",
     "shell.execute_reply": "2024-07-12T13:51:45.064782Z"
    },
    "papermill": {
     "duration": 2.112282,
     "end_time": "2024-07-12T13:51:45.068457",
     "exception": false,
     "start_time": "2024-07-12T13:51:42.956175",
     "status": "completed"
    },
    "tags": []
   },
   "outputs": [
    {
     "data": {
      "text/html": [
       "<style>#sk-container-id-1 {color: black;background-color: white;}#sk-container-id-1 pre{padding: 0;}#sk-container-id-1 div.sk-toggleable {background-color: white;}#sk-container-id-1 label.sk-toggleable__label {cursor: pointer;display: block;width: 100%;margin-bottom: 0;padding: 0.3em;box-sizing: border-box;text-align: center;}#sk-container-id-1 label.sk-toggleable__label-arrow:before {content: \"▸\";float: left;margin-right: 0.25em;color: #696969;}#sk-container-id-1 label.sk-toggleable__label-arrow:hover:before {color: black;}#sk-container-id-1 div.sk-estimator:hover label.sk-toggleable__label-arrow:before {color: black;}#sk-container-id-1 div.sk-toggleable__content {max-height: 0;max-width: 0;overflow: hidden;text-align: left;background-color: #f0f8ff;}#sk-container-id-1 div.sk-toggleable__content pre {margin: 0.2em;color: black;border-radius: 0.25em;background-color: #f0f8ff;}#sk-container-id-1 input.sk-toggleable__control:checked~div.sk-toggleable__content {max-height: 200px;max-width: 100%;overflow: auto;}#sk-container-id-1 input.sk-toggleable__control:checked~label.sk-toggleable__label-arrow:before {content: \"▾\";}#sk-container-id-1 div.sk-estimator input.sk-toggleable__control:checked~label.sk-toggleable__label {background-color: #d4ebff;}#sk-container-id-1 div.sk-label input.sk-toggleable__control:checked~label.sk-toggleable__label {background-color: #d4ebff;}#sk-container-id-1 input.sk-hidden--visually {border: 0;clip: rect(1px 1px 1px 1px);clip: rect(1px, 1px, 1px, 1px);height: 1px;margin: -1px;overflow: hidden;padding: 0;position: absolute;width: 1px;}#sk-container-id-1 div.sk-estimator {font-family: monospace;background-color: #f0f8ff;border: 1px dotted black;border-radius: 0.25em;box-sizing: border-box;margin-bottom: 0.5em;}#sk-container-id-1 div.sk-estimator:hover {background-color: #d4ebff;}#sk-container-id-1 div.sk-parallel-item::after {content: \"\";width: 100%;border-bottom: 1px solid gray;flex-grow: 1;}#sk-container-id-1 div.sk-label:hover label.sk-toggleable__label {background-color: #d4ebff;}#sk-container-id-1 div.sk-serial::before {content: \"\";position: absolute;border-left: 1px solid gray;box-sizing: border-box;top: 0;bottom: 0;left: 50%;z-index: 0;}#sk-container-id-1 div.sk-serial {display: flex;flex-direction: column;align-items: center;background-color: white;padding-right: 0.2em;padding-left: 0.2em;position: relative;}#sk-container-id-1 div.sk-item {position: relative;z-index: 1;}#sk-container-id-1 div.sk-parallel {display: flex;align-items: stretch;justify-content: center;background-color: white;position: relative;}#sk-container-id-1 div.sk-item::before, #sk-container-id-1 div.sk-parallel-item::before {content: \"\";position: absolute;border-left: 1px solid gray;box-sizing: border-box;top: 0;bottom: 0;left: 50%;z-index: -1;}#sk-container-id-1 div.sk-parallel-item {display: flex;flex-direction: column;z-index: 1;position: relative;background-color: white;}#sk-container-id-1 div.sk-parallel-item:first-child::after {align-self: flex-end;width: 50%;}#sk-container-id-1 div.sk-parallel-item:last-child::after {align-self: flex-start;width: 50%;}#sk-container-id-1 div.sk-parallel-item:only-child::after {width: 0;}#sk-container-id-1 div.sk-dashed-wrapped {border: 1px dashed gray;margin: 0 0.4em 0.5em 0.4em;box-sizing: border-box;padding-bottom: 0.4em;background-color: white;}#sk-container-id-1 div.sk-label label {font-family: monospace;font-weight: bold;display: inline-block;line-height: 1.2em;}#sk-container-id-1 div.sk-label-container {text-align: center;}#sk-container-id-1 div.sk-container {/* jupyter's `normalize.less` sets `[hidden] { display: none; }` but bootstrap.min.css set `[hidden] { display: none !important; }` so we also need the `!important` here to be able to override the default hidden behavior on the sphinx rendered scikit-learn.org. See: https://github.com/scikit-learn/scikit-learn/issues/21755 */display: inline-block !important;position: relative;}#sk-container-id-1 div.sk-text-repr-fallback {display: none;}</style><div id=\"sk-container-id-1\" class=\"sk-top-container\"><div class=\"sk-text-repr-fallback\"><pre>RandomForestRegressor(oob_score=True, random_state=0)</pre><b>In a Jupyter environment, please rerun this cell to show the HTML representation or trust the notebook. <br />On GitHub, the HTML representation is unable to render, please try loading this page with nbviewer.org.</b></div><div class=\"sk-container\" hidden><div class=\"sk-item\"><div class=\"sk-estimator sk-toggleable\"><input class=\"sk-toggleable__control sk-hidden--visually\" id=\"sk-estimator-id-1\" type=\"checkbox\" checked><label for=\"sk-estimator-id-1\" class=\"sk-toggleable__label sk-toggleable__label-arrow\">RandomForestRegressor</label><div class=\"sk-toggleable__content\"><pre>RandomForestRegressor(oob_score=True, random_state=0)</pre></div></div></div></div></div>"
      ],
      "text/plain": [
       "RandomForestRegressor(oob_score=True, random_state=0)"
      ]
     },
     "execution_count": 6,
     "metadata": {},
     "output_type": "execute_result"
    }
   ],
   "source": [
    "#Making the train test split for the model given the data for experimentation\n",
    "X= df[[\"Year\", \"Sport\", \"NOC\"] ]\n",
    "y=df[[\"Medal\"] ]\n",
    "X_train, X_test, y_train, y_test = train_test_split(X,y , \n",
    "                                   random_state=104,  \n",
    "                                   test_size=.25,  \n",
    "                                   shuffle=False) \n",
    "#prep for training the model\n",
    "regressor = RandomForestRegressor(n_estimators=100, random_state=0, oob_score=True)\n",
    "y_train= y_train[\"Medal\"].to_numpy()\n",
    "# Fit the model\n",
    "regressor.fit(X_train, y_train)"
   ]
  },
  {
   "cell_type": "code",
   "execution_count": 7,
   "id": "ee6ed01d",
   "metadata": {
    "execution": {
     "iopub.execute_input": "2024-07-12T13:51:45.079052Z",
     "iopub.status.busy": "2024-07-12T13:51:45.078468Z",
     "iopub.status.idle": "2024-07-12T13:51:45.114992Z",
     "shell.execute_reply": "2024-07-12T13:51:45.113821Z"
    },
    "papermill": {
     "duration": 0.045412,
     "end_time": "2024-07-12T13:51:45.118212",
     "exception": false,
     "start_time": "2024-07-12T13:51:45.072800",
     "status": "completed"
    },
    "tags": []
   },
   "outputs": [],
   "source": [
    "#running predictions for olympics 2024\n",
    "predictions_2024 = regressor.predict(the_2024_results)\n",
    "predictions = pd.DataFrame(predictions_2024)"
   ]
  },
  {
   "cell_type": "code",
   "execution_count": 8,
   "id": "67e2cf29",
   "metadata": {
    "execution": {
     "iopub.execute_input": "2024-07-12T13:51:45.128811Z",
     "iopub.status.busy": "2024-07-12T13:51:45.128438Z",
     "iopub.status.idle": "2024-07-12T13:51:45.144480Z",
     "shell.execute_reply": "2024-07-12T13:51:45.142937Z"
    },
    "papermill": {
     "duration": 0.024915,
     "end_time": "2024-07-12T13:51:45.147720",
     "exception": false,
     "start_time": "2024-07-12T13:51:45.122805",
     "status": "completed"
    },
    "tags": []
   },
   "outputs": [],
   "source": [
    "#merging the predictions with the formatted dataframe to pass as CSV into frontend\n",
    "copy.reset_index(drop=True, inplace=True)\n",
    "predictions.reset_index(drop=True, inplace=True)\n",
    "concatenated_df = pd.concat([copy, predictions], axis=1)\n",
    "concatenated_df.to_csv('predictions.csv',index=False)"
   ]
  }
 ],
 "metadata": {
  "kaggle": {
   "accelerator": "none",
   "dataSources": [
    {
     "datasetId": 31029,
     "sourceId": 40943,
     "sourceType": "datasetVersion"
    }
   ],
   "dockerImageVersionId": 30746,
   "isGpuEnabled": false,
   "isInternetEnabled": false,
   "language": "python",
   "sourceType": "notebook"
  },
  "kernelspec": {
   "display_name": "Python 3",
   "language": "python",
   "name": "python3"
  },
  "language_info": {
   "codemirror_mode": {
    "name": "ipython",
    "version": 3
   },
   "file_extension": ".py",
   "mimetype": "text/x-python",
   "name": "python",
   "nbconvert_exporter": "python",
   "pygments_lexer": "ipython3",
   "version": "3.10.13"
  },
  "papermill": {
   "default_parameters": {},
   "duration": 11.893969,
   "end_time": "2024-07-12T13:51:45.774157",
   "environment_variables": {},
   "exception": null,
   "input_path": "__notebook__.ipynb",
   "output_path": "__notebook__.ipynb",
   "parameters": {},
   "start_time": "2024-07-12T13:51:33.880188",
   "version": "2.5.0"
  }
 },
 "nbformat": 4,
 "nbformat_minor": 5
}
